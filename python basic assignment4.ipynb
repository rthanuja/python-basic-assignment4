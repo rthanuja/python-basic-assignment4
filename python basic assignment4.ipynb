{
 "cells": [
  {
   "cell_type": "code",
   "execution_count": null,
   "id": "81ccfce1",
   "metadata": {},
   "outputs": [],
   "source": [
    "#1. What exactly is []?\n",
    "square brackets represents a list."
   ]
  },
  {
   "cell_type": "code",
   "execution_count": 2,
   "id": "987156dd",
   "metadata": {},
   "outputs": [
    {
     "data": {
      "text/plain": [
       "[2, 4, 'hello', 8, 10]"
      ]
     },
     "execution_count": 2,
     "metadata": {},
     "output_type": "execute_result"
    }
   ],
   "source": [
    "#2. In a list of values stored in a variable called spam, how would you assign the value 'hello' as the\n",
    "#third value? (Assume [2, 4, 6, 8, 10] are in spam.)\n",
    "spam=[2,4,6,8,10]\n",
    "spam[2]=\"hello\"\n",
    "spam\n"
   ]
  },
  {
   "cell_type": "code",
   "execution_count": null,
   "id": "598b4a54",
   "metadata": {},
   "outputs": [],
   "source": [
    "#Let's pretend the spam includes the list ['a','b','c','d'] for the next three queries.\n",
    "#3. What is the value of spam[int(int('3' * 2) / 11)]?\n",
    "spam=['a','b','c','d']\n",
    "spam[int(33/11)]\n",
    "spam[3]\n",
    "the value of expression is 'd'"
   ]
  },
  {
   "cell_type": "code",
   "execution_count": null,
   "id": "8673a04b",
   "metadata": {},
   "outputs": [],
   "source": [
    "#4. What is the value of spam[-1]?\n",
    "negative indexing starts from right end\n",
    "spam[-1]='d'"
   ]
  },
  {
   "cell_type": "code",
   "execution_count": null,
   "id": "476b8470",
   "metadata": {},
   "outputs": [],
   "source": [
    "#5. What is the value of spam[:2]?\n",
    "spam[:2]=['a','b']"
   ]
  },
  {
   "cell_type": "code",
   "execution_count": null,
   "id": "fc4331cd",
   "metadata": {},
   "outputs": [],
   "source": [
    "#Let's pretend bacon has the list [3.14, 'cat', 11, 'cat' ,True] for the next three questions\n",
    "6. What is the value of bacon.index('cat')?\n",
    "the value is 1\n",
    "index method returns the index of first occurrence of the element."
   ]
  },
  {
   "cell_type": "code",
   "execution_count": null,
   "id": "acd65121",
   "metadata": {},
   "outputs": [],
   "source": [
    "#7. How does bacon.append(99) change the look of the list value in bacon?\n",
    "bacon=[3.14, 'cat', 11, 'cat' ,True,99]"
   ]
  },
  {
   "cell_type": "code",
   "execution_count": null,
   "id": "ba6f055b",
   "metadata": {},
   "outputs": [],
   "source": [
    "#8. How does bacon.remove('cat') change the look of the list in bacon?\n",
    "bacon=[3.14, 11, 'cat', True, 99]\n",
    "remove method deletes only the first occurrence of the element"
   ]
  },
  {
   "cell_type": "code",
   "execution_count": null,
   "id": "f2d43442",
   "metadata": {},
   "outputs": [],
   "source": [
    "9. What are the list concatenation and list replication operators?\n",
    "list concatenation operator------> +\n",
    "list replication operator--------> *"
   ]
  },
  {
   "cell_type": "code",
   "execution_count": null,
   "id": "2e0d6db4",
   "metadata": {},
   "outputs": [],
   "source": [
    "#10. What is difference between the list methods append() and insert()?\n",
    "append() method just adds the element to the end of the list.\n",
    "by using insert() method we can add element at the required index in the list"
   ]
  },
  {
   "cell_type": "code",
   "execution_count": null,
   "id": "1d62879b",
   "metadata": {},
   "outputs": [],
   "source": [
    "#11. What are the two methods for removing items from a list?\n",
    "list.pop() and list.remove() are the 2 methods for removing items from a list\n",
    "list.pop()-we have to specify the index of the element which has to be removed in the paranthesis. if nothing is mentioned,by\n",
    "default it removes the last element in the list\n",
    "list.remove()-we have to enter the element which has to be removed inside the paranthesis.It removes\n",
    "only the first occurrence of the element"
   ]
  },
  {
   "cell_type": "code",
   "execution_count": null,
   "id": "a6bea40a",
   "metadata": {},
   "outputs": [],
   "source": [
    "#12. Describe how list values and string values are identical.\n",
    "they are identical in the way that we can get the values by their indexes."
   ]
  },
  {
   "cell_type": "code",
   "execution_count": null,
   "id": "2a5c7a3c",
   "metadata": {},
   "outputs": [],
   "source": [
    "#13. What's the difference between tuples and lists?\n",
    "tuples are immutable and lists are mutable.\n",
    "tuples are represented by paranthesis-- () whereas lists are represented by- []\n"
   ]
  },
  {
   "cell_type": "code",
   "execution_count": null,
   "id": "920d7368",
   "metadata": {},
   "outputs": [],
   "source": [
    "#14. How do you type a tuple value that only contains the integer 42?\n",
    "(42,)  we have to add a comma after the integer"
   ]
  },
  {
   "cell_type": "code",
   "execution_count": null,
   "id": "44bb3045",
   "metadata": {},
   "outputs": [],
   "source": [
    "#15. How do you get a list value's tuple form? How do you get a tuple value's list form?\n",
    "for list values tuple form-----> tuple(list)\n",
    "for tuple values list form-----> list(tuple)"
   ]
  },
  {
   "cell_type": "code",
   "execution_count": null,
   "id": "6bed86fc",
   "metadata": {},
   "outputs": [],
   "source": [
    "#16. Variables that 'contain' list values are not necessarily lists themselves. Instead, what do they\n",
    "contain?\n",
    "variable contains memory location that store values."
   ]
  },
  {
   "cell_type": "code",
   "execution_count": null,
   "id": "441caf8d",
   "metadata": {},
   "outputs": [],
   "source": [
    "#17. How do you distinguish between copy.copy() and copy.deepcopy()?\n",
    "copy.copy()-is a shallow copy creates a new object and references it to the original object.so, if any changes are made to the \n",
    "copy it reflects in the original object also\n",
    "copy.deepcopy()-is a deep copy which creates a new object and populates it with the original objects.so, if any changes are made\n",
    "to the copy it does not reflect in the original object\n"
   ]
  }
 ],
 "metadata": {
  "kernelspec": {
   "display_name": "Python 3 (ipykernel)",
   "language": "python",
   "name": "python3"
  },
  "language_info": {
   "codemirror_mode": {
    "name": "ipython",
    "version": 3
   },
   "file_extension": ".py",
   "mimetype": "text/x-python",
   "name": "python",
   "nbconvert_exporter": "python",
   "pygments_lexer": "ipython3",
   "version": "3.10.9"
  }
 },
 "nbformat": 4,
 "nbformat_minor": 5
}
